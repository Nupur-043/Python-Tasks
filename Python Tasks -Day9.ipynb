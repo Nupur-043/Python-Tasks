{
 "cells": [
  {
   "cell_type": "code",
   "execution_count": 2,
   "id": "8705ad1f",
   "metadata": {},
   "outputs": [
    {
     "name": "stdout",
     "output_type": "stream",
     "text": [
      "n : -5\n",
      "-5 is negative\n"
     ]
    }
   ],
   "source": [
    "#1\n",
    "n=int(input('n : '))\n",
    "if(n>0):\n",
    "    print(f\"{n} is  positive \")\n",
    "elif(n<0):\n",
    "    print(f\"{n} is negative\")\n",
    "else:\n",
    "    print(f\"{n} is 0\")"
   ]
  },
  {
   "cell_type": "code",
   "execution_count": 4,
   "id": "892f8d89",
   "metadata": {},
   "outputs": [
    {
     "name": "stdout",
     "output_type": "stream",
     "text": [
      "enter a number: 10\n",
      "10 it is not divisible by 5 and 11\n"
     ]
    }
   ],
   "source": [
    "#2\n",
    "a=int(input('enter a number: '))\n",
    "if a%5 ==0 and a%11==0:\n",
    "    print(f\"{a} is divisible by 5 and 11\")\n",
    "else:\n",
    "    print(f\"{a} it is not divisible by 5 and 11\")"
   ]
  },
  {
   "cell_type": "code",
   "execution_count": 12,
   "id": "f9b1c68a",
   "metadata": {},
   "outputs": [
    {
     "name": "stdout",
     "output_type": "stream",
     "text": [
      "enter a year: 1916\n",
      "1916 is a leap year .\n"
     ]
    }
   ],
   "source": [
    "#3\n",
    "year=int(input('enter a year: '))\n",
    "if year%4==0:\n",
    "    print(f\"{year} is a leap year .\")\n",
    "elif year%100==0:\n",
    "    print(f\"{year} is not a leap year.\")\n",
    "elif year%400==0:\n",
    "    print(f\"{year} is a leap year. \")\n",
    "else:\n",
    "    print(f\"{year} is not a leap year.\")\n",
    "    "
   ]
  },
  {
   "cell_type": "code",
   "execution_count": 16,
   "id": "cc1a7248",
   "metadata": {},
   "outputs": [
    {
     "name": "stdout",
     "output_type": "stream",
     "text": [
      "enter a character: 3\n",
      "3 is not an alphabet.\n"
     ]
    }
   ],
   "source": [
    "#4\n",
    "s=input('enter a character: ')\n",
    "if s>='a' and s<='z':\n",
    "    print(f\"{s} is an alphabet.\")\n",
    "elif s>='A' and s<='Z':\n",
    "    print(f\"{s} is  an alphabet.\")\n",
    "else:\n",
    "    print(f\"{s} is not an alphabet.\")"
   ]
  },
  {
   "cell_type": "code",
   "execution_count": 19,
   "id": "763d89d5",
   "metadata": {},
   "outputs": [
    {
     "name": "stdout",
     "output_type": "stream",
     "text": [
      "enter an alphabet: a\n",
      "a is a vowel.\n"
     ]
    }
   ],
   "source": [
    "#5\n",
    "ch=input('enter an alphabet: ')\n",
    "if ch=='a' or ch=='e' or ch=='i' or ch=='o' or ch=='u':\n",
    "    print(f\"{ch} is a vowel.\")\n",
    "else:\n",
    "        print(f\"{ch} is a consonent.\")"
   ]
  },
  {
   "cell_type": "code",
   "execution_count": 27,
   "id": "19498df3",
   "metadata": {},
   "outputs": [
    {
     "name": "stdout",
     "output_type": "stream",
     "text": [
      "enter a character: $\n",
      "$ is a special character.\n"
     ]
    }
   ],
   "source": [
    "#6\n",
    "ch=input('enter a character: ')\n",
    "if ch>='a' and ch<='z' or ch>='A' and ch<='Z':\n",
    "    print(f\"{ch} is an alphabet.\")\n",
    "elif ch>='0' and ch<='9':\n",
    "    print(f\"{ch} is a digit.\")\n",
    "else:\n",
    "    print(f\"{ch} is a special character.\")"
   ]
  },
  {
   "cell_type": "code",
   "execution_count": 29,
   "id": "b993606d",
   "metadata": {},
   "outputs": [
    {
     "name": "stdout",
     "output_type": "stream",
     "text": [
      "enter an alphabet: A\n",
      "A is uppercase.\n"
     ]
    }
   ],
   "source": [
    "#7\n",
    "ch=input('enter an alphabet: ')\n",
    "if ch>='a' and ch<='z':\n",
    "    print(f\"{ch} is lowercase.\")\n",
    "else:\n",
    "    print(f\"{ch} is uppercase.\")"
   ]
  },
  {
   "cell_type": "code",
   "execution_count": 34,
   "id": "6dcee881",
   "metadata": {},
   "outputs": [
    {
     "name": "stdout",
     "output_type": "stream",
     "text": [
      "enter number 1 to 7 : 10\n",
      "your choice is invalid\n"
     ]
    }
   ],
   "source": [
    "#8\n",
    "w=int(input('enter number 1 to 7 : '))\n",
    "if w==1:\n",
    "    print('Sunday')\n",
    "elif w==2:\n",
    "    print('Monday')\n",
    "elif w==3:\n",
    "    print('Tuesday')\n",
    "elif w==4:\n",
    "    print('Wednesday')\n",
    "elif w==5:\n",
    "    print('Thursday')\n",
    "elif w==6:\n",
    "    print('Friday')\n",
    "elif w==7:\n",
    "    print('Saturday')\n",
    "else:\n",
    "    print('your choice is invalid')"
   ]
  },
  {
   "cell_type": "code",
   "execution_count": 36,
   "id": "0f1ff695",
   "metadata": {},
   "outputs": [
    {
     "name": "stdout",
     "output_type": "stream",
     "text": [
      "enter an angle: 90\n",
      "enter an angle: 45\n",
      "enter an angle: 45\n",
      "the triangle is valid.\n"
     ]
    }
   ],
   "source": [
    "#9\n",
    "an1=int(input('enter an angle: '))\n",
    "an2=int(input('enter an angle: '))\n",
    "an3=int(input('enter an angle: '))\n",
    "sum=an1+an2+an3\n",
    "if sum==180:\n",
    "    print('the triangle is valid.')\n",
    "else:\n",
    "    print('the triangle is not valid.')"
   ]
  },
  {
   "cell_type": "code",
   "execution_count": 43,
   "id": "caf078c4",
   "metadata": {},
   "outputs": [
    {
     "name": "stdout",
     "output_type": "stream",
     "text": [
      "enter a side: 2\n",
      "enter a side: 7\n",
      "enter a side: 3\n",
      "It is not a valid triangle.\n"
     ]
    }
   ],
   "source": [
    "#10\n",
    "s1=int(input('enter a side: '))\n",
    "s2=int(input('enter a side: '))\n",
    "s3=int(input('enter a side: '))\n",
    "if (s1+s2)>s3 and (s1+s3)>s2 and (s2+s3)>s1:\n",
    "    print(' It is a valid triangle.')\n",
    "else:\n",
    "    print('It is not a valid triangle.')"
   ]
  },
  {
   "cell_type": "code",
   "execution_count": 49,
   "id": "b794ef1b",
   "metadata": {},
   "outputs": [
    {
     "name": "stdout",
     "output_type": "stream",
     "text": [
      "enter an angle: 60\n",
      "enter an angle: 60\n",
      "enter an angle: 60\n",
      "the triangle is equilateral.\n"
     ]
    }
   ],
   "source": [
    "#11\n",
    "an1=float(input('enter an angle: '))\n",
    "an2=float(input('enter an angle: '))\n",
    "an3=float(input('enter an angle: '))\n",
    "if an1==an2 and an2==an3:\n",
    "    print('the triangle is equilateral.')\n",
    "elif an1==an2 and an2!=an3 or an1==an3 and an3!=an2 or an2==an3 and an3!=an1:\n",
    "    print('The triangle is isoceles.')\n",
    "else:\n",
    "    print(\"The triangle is scalene.\")"
   ]
  },
  {
   "cell_type": "code",
   "execution_count": 51,
   "id": "694daea4",
   "metadata": {},
   "outputs": [
    {
     "name": "stdout",
     "output_type": "stream",
     "text": [
      "enter the mark of physics: 47\n",
      "enter the mark of chemistry: 89\n",
      "enter the mark of biology: 90\n",
      "enter the mark of mathematics: 93\n",
      "enter the mark of computer: 59\n",
      "The percentage of five subjects is 75.6%\n",
      "Grade C\n"
     ]
    }
   ],
   "source": [
    "#12\n",
    "phy=float(input('enter the mark of physics: '))\n",
    "chem=float(input('enter the mark of chemistry: '))\n",
    "bio=float(input('enter the mark of biology: '))\n",
    "maths=float(input('enter the mark of mathematics: '))\n",
    "comp=float(input('enter the mark of computer: '))\n",
    "total=phy+chem+bio+maths+comp\n",
    "percentage=total/5\n",
    "print(f\"The percentage of five subjects is {percentage}%\")\n",
    "if percentage>=90:\n",
    "    print('Grade A')\n",
    "elif percentage>=80:\n",
    "    print('Grade B')\n",
    "elif percentage>=70:\n",
    "    print('Grade C')\n",
    "elif percentage>=60:\n",
    "    print('Grade D')\n",
    "elif percentage>=40:\n",
    "    print('Grade E')\n",
    "elif percentage<40:\n",
    "    print('Grade F')"
   ]
  },
  {
   "cell_type": "code",
   "execution_count": 52,
   "id": "98492fe7",
   "metadata": {},
   "outputs": [
    {
     "name": "stdout",
     "output_type": "stream",
     "text": [
      "Enter the basic salary of the employee: 344000\n",
      "Gross Salary:  774000.0\n"
     ]
    }
   ],
   "source": [
    "#13\n",
    "bs = float(input(\"Enter the basic salary of the employee: \"))\n",
    "\n",
    "if bs<= 10000:\n",
    "    hra = bs * 0.2\n",
    "    da = bs * 0.8\n",
    "elif bs <= 20000:\n",
    "    hra = bs * 0.25\n",
    "    da = bs * 0.9\n",
    "else:\n",
    "    hra = bs * 0.3\n",
    "    da = bs * 0.95\n",
    "\n",
    "gross_salary = bs + hra + da\n",
    "\n",
    "print(\"Gross Salary: \", gross_salary)\n"
   ]
  },
  {
   "cell_type": "code",
   "execution_count": 54,
   "id": "83f48016",
   "metadata": {},
   "outputs": [
    {
     "name": "stdout",
     "output_type": "stream",
     "text": [
      "Enter the electricity unit charges: 345\n",
      "Total Electricity Bill:  435.0\n"
     ]
    }
   ],
   "source": [
    "#14\n",
    "unit_charges = float(input(\"Enter the electricity unit charges: \"))\n",
    "if unit_charges <= 50:\n",
    "    total_bill = unit_charges * 0.50\n",
    "elif unit_charges <= 150:\n",
    "    total_bill = (50 * 0.50) + ((unit_charges - 50) * 0.75)\n",
    "elif unit_charges <= 250:\n",
    "    total_bill = (50 * 0.50) + (100 * 0.75) + ((unit_charges - 150) * 1.20)\n",
    "else:\n",
    "    total_bill = (50 * 0.50) + (100 * 0.75) + (100 * 1.20) + ((unit_charges - 250) * 1.50)\n",
    "surcharge = total_bill * 0.20  # Calculate 20% surcharge\n",
    "total_bill += surcharge  # Add surcharge to the total bill\n",
    "print(\"Total Electricity Bill: \", total_bill)\n"
   ]
  },
  {
   "cell_type": "code",
   "execution_count": null,
   "id": "aac71bdb",
   "metadata": {},
   "outputs": [],
   "source": []
  }
 ],
 "metadata": {
  "kernelspec": {
   "display_name": "Python 3 (ipykernel)",
   "language": "python",
   "name": "python3"
  },
  "language_info": {
   "codemirror_mode": {
    "name": "ipython",
    "version": 3
   },
   "file_extension": ".py",
   "mimetype": "text/x-python",
   "name": "python",
   "nbconvert_exporter": "python",
   "pygments_lexer": "ipython3",
   "version": "3.10.9"
  }
 },
 "nbformat": 4,
 "nbformat_minor": 5
}
